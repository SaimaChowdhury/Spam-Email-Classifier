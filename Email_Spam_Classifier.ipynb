{
 "cells": [
  {
   "cell_type": "markdown",
   "metadata": {
    "id": "DJcZTSOC76c5"
   },
   "source": [
    "# Email Spam Classifier  \n",
    "### **Author:** Saima Chowdhury\n",
    "**Email:** saima.chowdhury811@gmail.com\n",
    "\n",
    "---\n",
    "**Date:** 2025-10-02  \n",
    "**Dataset:** Kaggle — *SMS Spam Collection Dataset* (https://www.kaggle.com/datasets/uciml/sms-spam-collection-dataset/suggestions)\n"
   ]
  },
  {
   "cell_type": "markdown",
   "metadata": {
    "id": "8cP9yazXokcR"
   },
   "source": [
    "***Importing Libraries***"
   ]
  },
  {
   "cell_type": "code",
   "execution_count": 18,
   "metadata": {
    "id": "k-sHdHLI4oqB"
   },
   "outputs": [],
   "source": [
    "#step-1\n",
    "import pandas as pd\n",
    "#import numpy as np\n",
    "\n",
    "#step-2\n",
    "import string\n",
    "from sklearn.feature_extraction.text import CountVectorizer, TfidfVectorizer\n",
    "\n",
    "#step-3\n",
    "from sklearn.model_selection import train_test_split\n",
    "\n",
    "#step-4\n",
    "from sklearn.metrics import classification_report, accuracy_score, confusion_matrix\n",
    "#NB\n",
    "from sklearn.naive_bayes import MultinomialNB\n",
    "#LR\n",
    "from sklearn.linear_model import LogisticRegression\n",
    "#RF\n",
    "from sklearn.ensemble import RandomForestClassifier\n",
    "# Visualization\n",
    "import matplotlib.pyplot as plt\n",
    "import seaborn as sns\n"
   ]
  },
  {
   "cell_type": "markdown",
   "metadata": {
    "id": "w1opdlWPE3ix"
   },
   "source": [
    "## Step 1. Data\n",
    "---\n",
    " **Use the Spam SMS/Email dataset (e.g., SMS Spam Collection from Kaggle).**"
   ]
  },
  {
   "cell_type": "code",
   "execution_count": 19,
   "metadata": {
    "colab": {
     "base_uri": "https://localhost:8080/",
     "height": 206
    },
    "id": "cd01ff72",
    "outputId": "dff784e5-e79b-430d-cc90-bd030e7fe98f"
   },
   "outputs": [
    {
     "data": {
      "text/html": [
       "<div>\n",
       "<style scoped>\n",
       "    .dataframe tbody tr th:only-of-type {\n",
       "        vertical-align: middle;\n",
       "    }\n",
       "\n",
       "    .dataframe tbody tr th {\n",
       "        vertical-align: top;\n",
       "    }\n",
       "\n",
       "    .dataframe thead th {\n",
       "        text-align: right;\n",
       "    }\n",
       "</style>\n",
       "<table border=\"1\" class=\"dataframe\">\n",
       "  <thead>\n",
       "    <tr style=\"text-align: right;\">\n",
       "      <th></th>\n",
       "      <th>v1</th>\n",
       "      <th>v2</th>\n",
       "      <th>Unnamed: 2</th>\n",
       "      <th>Unnamed: 3</th>\n",
       "      <th>Unnamed: 4</th>\n",
       "    </tr>\n",
       "  </thead>\n",
       "  <tbody>\n",
       "    <tr>\n",
       "      <th>0</th>\n",
       "      <td>ham</td>\n",
       "      <td>Go until jurong point, crazy.. Available only ...</td>\n",
       "      <td>NaN</td>\n",
       "      <td>NaN</td>\n",
       "      <td>NaN</td>\n",
       "    </tr>\n",
       "    <tr>\n",
       "      <th>1</th>\n",
       "      <td>ham</td>\n",
       "      <td>Ok lar... Joking wif u oni...</td>\n",
       "      <td>NaN</td>\n",
       "      <td>NaN</td>\n",
       "      <td>NaN</td>\n",
       "    </tr>\n",
       "    <tr>\n",
       "      <th>2</th>\n",
       "      <td>spam</td>\n",
       "      <td>Free entry in 2 a wkly comp to win FA Cup fina...</td>\n",
       "      <td>NaN</td>\n",
       "      <td>NaN</td>\n",
       "      <td>NaN</td>\n",
       "    </tr>\n",
       "    <tr>\n",
       "      <th>3</th>\n",
       "      <td>ham</td>\n",
       "      <td>U dun say so early hor... U c already then say...</td>\n",
       "      <td>NaN</td>\n",
       "      <td>NaN</td>\n",
       "      <td>NaN</td>\n",
       "    </tr>\n",
       "    <tr>\n",
       "      <th>4</th>\n",
       "      <td>ham</td>\n",
       "      <td>Nah I don't think he goes to usf, he lives aro...</td>\n",
       "      <td>NaN</td>\n",
       "      <td>NaN</td>\n",
       "      <td>NaN</td>\n",
       "    </tr>\n",
       "  </tbody>\n",
       "</table>\n",
       "</div>"
      ],
      "text/plain": [
       "     v1                                                 v2 Unnamed: 2  \\\n",
       "0   ham  Go until jurong point, crazy.. Available only ...        NaN   \n",
       "1   ham                      Ok lar... Joking wif u oni...        NaN   \n",
       "2  spam  Free entry in 2 a wkly comp to win FA Cup fina...        NaN   \n",
       "3   ham  U dun say so early hor... U c already then say...        NaN   \n",
       "4   ham  Nah I don't think he goes to usf, he lives aro...        NaN   \n",
       "\n",
       "  Unnamed: 3 Unnamed: 4  \n",
       "0        NaN        NaN  \n",
       "1        NaN        NaN  \n",
       "2        NaN        NaN  \n",
       "3        NaN        NaN  \n",
       "4        NaN        NaN  "
      ]
     },
     "execution_count": 19,
     "metadata": {},
     "output_type": "execute_result"
    }
   ],
   "source": [
    "df = pd.read_csv('spam.csv' , encoding='latin-1')\n",
    "df.head()"
   ]
  },
  {
   "cell_type": "markdown",
   "metadata": {
    "id": "Km2C2_CUD59x"
   },
   "source": [
    "Columns: label (spam/ham), message (text).  \n",
    "Target: label."
   ]
  },
  {
   "cell_type": "code",
   "execution_count": 20,
   "metadata": {
    "colab": {
     "base_uri": "https://localhost:8080/",
     "height": 363
    },
    "id": "Rityg-6oDI1u",
    "outputId": "4f3af69b-e1b9-4ca3-a27d-fb9a0a6922fc"
   },
   "outputs": [
    {
     "data": {
      "text/html": [
       "<div>\n",
       "<style scoped>\n",
       "    .dataframe tbody tr th:only-of-type {\n",
       "        vertical-align: middle;\n",
       "    }\n",
       "\n",
       "    .dataframe tbody tr th {\n",
       "        vertical-align: top;\n",
       "    }\n",
       "\n",
       "    .dataframe thead th {\n",
       "        text-align: right;\n",
       "    }\n",
       "</style>\n",
       "<table border=\"1\" class=\"dataframe\">\n",
       "  <thead>\n",
       "    <tr style=\"text-align: right;\">\n",
       "      <th></th>\n",
       "      <th>label(spam/harm)</th>\n",
       "      <th>message(text)</th>\n",
       "    </tr>\n",
       "  </thead>\n",
       "  <tbody>\n",
       "    <tr>\n",
       "      <th>0</th>\n",
       "      <td>ham</td>\n",
       "      <td>Go until jurong point, crazy.. Available only ...</td>\n",
       "    </tr>\n",
       "    <tr>\n",
       "      <th>1</th>\n",
       "      <td>ham</td>\n",
       "      <td>Ok lar... Joking wif u oni...</td>\n",
       "    </tr>\n",
       "    <tr>\n",
       "      <th>2</th>\n",
       "      <td>spam</td>\n",
       "      <td>Free entry in 2 a wkly comp to win FA Cup fina...</td>\n",
       "    </tr>\n",
       "    <tr>\n",
       "      <th>3</th>\n",
       "      <td>ham</td>\n",
       "      <td>U dun say so early hor... U c already then say...</td>\n",
       "    </tr>\n",
       "    <tr>\n",
       "      <th>4</th>\n",
       "      <td>ham</td>\n",
       "      <td>Nah I don't think he goes to usf, he lives aro...</td>\n",
       "    </tr>\n",
       "    <tr>\n",
       "      <th>5</th>\n",
       "      <td>spam</td>\n",
       "      <td>FreeMsg Hey there darling it's been 3 week's n...</td>\n",
       "    </tr>\n",
       "    <tr>\n",
       "      <th>6</th>\n",
       "      <td>ham</td>\n",
       "      <td>Even my brother is not like to speak with me. ...</td>\n",
       "    </tr>\n",
       "    <tr>\n",
       "      <th>7</th>\n",
       "      <td>ham</td>\n",
       "      <td>As per your request 'Melle Melle (Oru Minnamin...</td>\n",
       "    </tr>\n",
       "    <tr>\n",
       "      <th>8</th>\n",
       "      <td>spam</td>\n",
       "      <td>WINNER!! As a valued network customer you have...</td>\n",
       "    </tr>\n",
       "    <tr>\n",
       "      <th>9</th>\n",
       "      <td>spam</td>\n",
       "      <td>Had your mobile 11 months or more? U R entitle...</td>\n",
       "    </tr>\n",
       "  </tbody>\n",
       "</table>\n",
       "</div>"
      ],
      "text/plain": [
       "  label(spam/harm)                                      message(text)\n",
       "0              ham  Go until jurong point, crazy.. Available only ...\n",
       "1              ham                      Ok lar... Joking wif u oni...\n",
       "2             spam  Free entry in 2 a wkly comp to win FA Cup fina...\n",
       "3              ham  U dun say so early hor... U c already then say...\n",
       "4              ham  Nah I don't think he goes to usf, he lives aro...\n",
       "5             spam  FreeMsg Hey there darling it's been 3 week's n...\n",
       "6              ham  Even my brother is not like to speak with me. ...\n",
       "7              ham  As per your request 'Melle Melle (Oru Minnamin...\n",
       "8             spam  WINNER!! As a valued network customer you have...\n",
       "9             spam  Had your mobile 11 months or more? U R entitle..."
      ]
     },
     "execution_count": 20,
     "metadata": {},
     "output_type": "execute_result"
    }
   ],
   "source": [
    "df.rename(columns={'v1': 'label(spam/harm)', 'v2': 'message(text)'}, inplace=True)\n",
    "df.drop(columns=['Unnamed: 2', 'Unnamed: 3', 'Unnamed: 4'], inplace=True)\n",
    "df.head(10)"
   ]
  },
  {
   "cell_type": "markdown",
   "metadata": {
    "id": "iusrT4QjBShK"
   },
   "source": [
    "## Step 2. Preprocessing\n",
    "---\n",
    "**1. Clean text (lowercase, remove punctuation, etc.)**"
   ]
  },
  {
   "cell_type": "code",
   "execution_count": 21,
   "metadata": {
    "colab": {
     "base_uri": "https://localhost:8080/",
     "height": 206
    },
    "id": "08a842d3",
    "outputId": "961d8c3a-4b42-42f8-ca38-bd759ba0335f"
   },
   "outputs": [
    {
     "data": {
      "text/html": [
       "<div>\n",
       "<style scoped>\n",
       "    .dataframe tbody tr th:only-of-type {\n",
       "        vertical-align: middle;\n",
       "    }\n",
       "\n",
       "    .dataframe tbody tr th {\n",
       "        vertical-align: top;\n",
       "    }\n",
       "\n",
       "    .dataframe thead th {\n",
       "        text-align: right;\n",
       "    }\n",
       "</style>\n",
       "<table border=\"1\" class=\"dataframe\">\n",
       "  <thead>\n",
       "    <tr style=\"text-align: right;\">\n",
       "      <th></th>\n",
       "      <th>label(spam/harm)</th>\n",
       "      <th>message(text)</th>\n",
       "      <th>cleaned_message</th>\n",
       "    </tr>\n",
       "  </thead>\n",
       "  <tbody>\n",
       "    <tr>\n",
       "      <th>0</th>\n",
       "      <td>ham</td>\n",
       "      <td>Go until jurong point, crazy.. Available only ...</td>\n",
       "      <td>go until jurong point crazy available only in ...</td>\n",
       "    </tr>\n",
       "    <tr>\n",
       "      <th>1</th>\n",
       "      <td>ham</td>\n",
       "      <td>Ok lar... Joking wif u oni...</td>\n",
       "      <td>ok lar joking wif u oni</td>\n",
       "    </tr>\n",
       "    <tr>\n",
       "      <th>2</th>\n",
       "      <td>spam</td>\n",
       "      <td>Free entry in 2 a wkly comp to win FA Cup fina...</td>\n",
       "      <td>free entry in 2 a wkly comp to win fa cup fina...</td>\n",
       "    </tr>\n",
       "    <tr>\n",
       "      <th>3</th>\n",
       "      <td>ham</td>\n",
       "      <td>U dun say so early hor... U c already then say...</td>\n",
       "      <td>u dun say so early hor u c already then say</td>\n",
       "    </tr>\n",
       "    <tr>\n",
       "      <th>4</th>\n",
       "      <td>ham</td>\n",
       "      <td>Nah I don't think he goes to usf, he lives aro...</td>\n",
       "      <td>nah i dont think he goes to usf he lives aroun...</td>\n",
       "    </tr>\n",
       "  </tbody>\n",
       "</table>\n",
       "</div>"
      ],
      "text/plain": [
       "  label(spam/harm)                                      message(text)  \\\n",
       "0              ham  Go until jurong point, crazy.. Available only ...   \n",
       "1              ham                      Ok lar... Joking wif u oni...   \n",
       "2             spam  Free entry in 2 a wkly comp to win FA Cup fina...   \n",
       "3              ham  U dun say so early hor... U c already then say...   \n",
       "4              ham  Nah I don't think he goes to usf, he lives aro...   \n",
       "\n",
       "                                     cleaned_message  \n",
       "0  go until jurong point crazy available only in ...  \n",
       "1                            ok lar joking wif u oni  \n",
       "2  free entry in 2 a wkly comp to win fa cup fina...  \n",
       "3        u dun say so early hor u c already then say  \n",
       "4  nah i dont think he goes to usf he lives aroun...  "
      ]
     },
     "metadata": {},
     "output_type": "display_data"
    }
   ],
   "source": [
    "def clean_text(text):\n",
    "    # Convert text to lowercase\n",
    "    text = text.lower()\n",
    "    # Remove punctuation\n",
    "    text = text.translate(str.maketrans('', '', string.punctuation))\n",
    "    return text\n",
    "\n",
    "df['cleaned_message'] = df['message(text)'].apply(clean_text)\n",
    "display(df.head())"
   ]
  },
  {
   "cell_type": "markdown",
   "metadata": {
    "id": "PouCLy3qBr86"
   },
   "source": [
    "**2. Convert text into numeric features using:**\n",
    "- Bag of Words (CountVectorizer)\n",
    "- TF-IDF (TfidfVectorizer)"
   ]
  },
  {
   "cell_type": "code",
   "execution_count": 22,
   "metadata": {
    "colab": {
     "base_uri": "https://localhost:8080/"
    },
    "id": "22891c95",
    "outputId": "7d518df9-6c0f-46a3-9655-7730b5575fa2"
   },
   "outputs": [
    {
     "name": "stdout",
     "output_type": "stream",
     "text": [
      "Shape of Bag of Words features: (5572, 9489)\n",
      "Shape of TF-IDF features: (5572, 9489)\n"
     ]
    }
   ],
   "source": [
    "# Bag of Words\n",
    "count_vectorizer = CountVectorizer()\n",
    "X_counts = count_vectorizer.fit_transform(df['cleaned_message'])\n",
    "print(\"Shape of Bag of Words features:\", X_counts.shape)\n",
    "\n",
    "# TF-IDF\n",
    "tfidf_vectorizer = TfidfVectorizer()\n",
    "X_tfidf = tfidf_vectorizer.fit_transform(df['cleaned_message'])\n",
    "print(\"Shape of TF-IDF features:\", X_tfidf.shape)"
   ]
  },
  {
   "cell_type": "markdown",
   "metadata": {
    "id": "L5brPhFnG13Q"
   },
   "source": [
    "##Step 3. Build a Model (model selection)\n",
    "---\n",
    "**Train at least one ML classifier:**\n",
    "- Naive Bayes (recommended for text)\n",
    "- Logistic Regression\n",
    "- Random Forest"
   ]
  },
  {
   "cell_type": "markdown",
   "metadata": {
    "id": "u_AMpxMjI6Sf"
   },
   "source": [
    "###🔹 Naive Bayes\n",
    "\n",
    "**Pro:** Very fast and works surprisingly well with sparse text features.\n",
    "\n",
    "**Con:** Assumes independence between words (not realistic).\n",
    "\n",
    "###🔹 Logistic Regression\n",
    "\n",
    "**Pro:** Usually more accurate than NB with TF-IDF and gives interpretable weights.\n",
    "\n",
    "**Con:** Needs more computation and careful regularization to avoid overfitting.\n",
    "\n",
    "###🔹 Random Forest\n",
    "\n",
    "**Pro:** Can model complex non-linear relationships in data with dense, engineered features (e.g., embeddings, topic vectors).\n",
    "\n",
    "**Con:** Performs poorly on high-dimensional sparse text (like bag-of-words).\n",
    "\n",
    "---\n",
    "\n",
    "🟢 *Considering all the pros and cons, Naive Bayes is a great baseline for text classification.*"
   ]
  },
  {
   "cell_type": "markdown",
   "metadata": {
    "id": "rPrVS6uj5M2A"
   },
   "source": [
    "##Step 4. Train & Evaluate\n",
    "---\n",
    "Split dataset: 70% train, 30% test.\n"
   ]
  },
  {
   "cell_type": "code",
   "execution_count": 23,
   "metadata": {
    "colab": {
     "base_uri": "https://localhost:8080/"
    },
    "id": "dc87748a",
    "outputId": "31f89745-6a69-4844-ba45-108199c6ebe0"
   },
   "outputs": [
    {
     "name": "stdout",
     "output_type": "stream",
     "text": [
      "Shape of X_train: (3900, 9489)\n",
      "Shape of X_test: (1672, 9489)\n",
      "Shape of y_train: (3900,)\n",
      "Shape of y_test: (1672,)\n"
     ]
    }
   ],
   "source": [
    "# Assuming X_tfidf are your features and df['label'] is your target variable\n",
    "X_train, X_test, y_train, y_test = train_test_split(X_tfidf, df['label(spam/harm)'], test_size=0.3, random_state=42)\n",
    "\n",
    "print(\"Shape of X_train:\", X_train.shape)\n",
    "print(\"Shape of X_test:\", X_test.shape)\n",
    "print(\"Shape of y_train:\", y_train.shape)\n",
    "print(\"Shape of y_test:\", y_test.shape)"
   ]
  },
  {
   "cell_type": "markdown",
   "metadata": {
    "id": "PPbnkRq-9fFf"
   },
   "source": [
    "**Report:**\n",
    "- Accuracy\n",
    "- Confusion Matrix\n",
    "---\n",
    "### *Naive Bayes Model*"
   ]
  },
  {
   "cell_type": "code",
   "execution_count": 24,
   "metadata": {
    "colab": {
     "base_uri": "https://localhost:8080/"
    },
    "id": "9e9d4074",
    "outputId": "9c252c5d-fcc0-4948-f12a-448808c99857"
   },
   "outputs": [
    {
     "name": "stdout",
     "output_type": "stream",
     "text": [
      "Accuracy: 0.9479665071770335\n",
      "\n",
      "Classification Report:\n",
      "               precision    recall  f1-score   support\n",
      "\n",
      "         ham       0.94      1.00      0.97      1453\n",
      "        spam       1.00      0.60      0.75       219\n",
      "\n",
      "    accuracy                           0.95      1672\n",
      "   macro avg       0.97      0.80      0.86      1672\n",
      "weighted avg       0.95      0.95      0.94      1672\n",
      "\n",
      "\n",
      "Confusion Matrix:\n",
      " [[1453    0]\n",
      " [  87  132]]\n"
     ]
    }
   ],
   "source": [
    "# Train the Naive Bayes model\n",
    "naive_bayes_model = MultinomialNB()\n",
    "naive_bayes_model.fit(X_train, y_train)\n",
    "\n",
    "# Predict on the test data\n",
    "y_pred = naive_bayes_model.predict(X_test)\n",
    "\n",
    "# Evaluate the model\n",
    "print(\"Accuracy:\", accuracy_score(y_test, y_pred))\n",
    "print(\"\\nClassification Report:\\n\", classification_report(y_test, y_pred))\n",
    "print(\"\\nConfusion Matrix:\\n\", confusion_matrix(y_test, y_pred))"
   ]
  },
  {
   "cell_type": "markdown",
   "metadata": {
    "id": "CDmGAxqTVbW6"
   },
   "source": [
    "### *Logistic Regression Model*"
   ]
  },
  {
   "cell_type": "code",
   "execution_count": 25,
   "metadata": {
    "colab": {
     "base_uri": "https://localhost:8080/"
    },
    "id": "0225b455",
    "outputId": "1fb7293c-e7f3-4bb4-b4ea-8024f0ccef95"
   },
   "outputs": [
    {
     "name": "stdout",
     "output_type": "stream",
     "text": [
      "Accuracy (Logistic Regression): 0.9509569377990431\n",
      "\n",
      "Classification Report (Logistic Regression):\n",
      "               precision    recall  f1-score   support\n",
      "\n",
      "         ham       0.95      1.00      0.97      1453\n",
      "        spam       0.99      0.63      0.77       219\n",
      "\n",
      "    accuracy                           0.95      1672\n",
      "   macro avg       0.97      0.81      0.87      1672\n",
      "weighted avg       0.95      0.95      0.95      1672\n",
      "\n",
      "\n",
      "Confusion Matrix (Logistic Regression):\n",
      " [[1452    1]\n",
      " [  81  138]]\n"
     ]
    }
   ],
   "source": [
    "# Train the Logistic Regression model\n",
    "logistic_regression_model = LogisticRegression()\n",
    "logistic_regression_model.fit(X_train, y_train)\n",
    "\n",
    "# Predict on the test data\n",
    "y_pred_lr = logistic_regression_model.predict(X_test)\n",
    "\n",
    "# Evaluate the model\n",
    "print(\"Accuracy (Logistic Regression):\", accuracy_score(y_test, y_pred_lr))\n",
    "print(\"\\nClassification Report (Logistic Regression):\\n\", classification_report(y_test, y_pred_lr))\n",
    "print(\"\\nConfusion Matrix (Logistic Regression):\\n\", confusion_matrix(y_test, y_pred_lr))"
   ]
  },
  {
   "cell_type": "markdown",
   "metadata": {
    "id": "9r6LY2DFVx1E"
   },
   "source": [
    "### *Random Forest Model*"
   ]
  },
  {
   "cell_type": "code",
   "execution_count": 26,
   "metadata": {
    "colab": {
     "base_uri": "https://localhost:8080/"
    },
    "id": "m8DufpgNVy7x",
    "outputId": "c7db8d9a-483f-48e7-d0fb-f76e711a6b07"
   },
   "outputs": [
    {
     "name": "stdout",
     "output_type": "stream",
     "text": [
      "Accuracy (Random Forest): 0.9712918660287081\n",
      "\n",
      "Classification Report (Random Forest):\n",
      "               precision    recall  f1-score   support\n",
      "\n",
      "         ham       0.97      1.00      0.98      1453\n",
      "        spam       1.00      0.78      0.88       219\n",
      "\n",
      "    accuracy                           0.97      1672\n",
      "   macro avg       0.98      0.89      0.93      1672\n",
      "weighted avg       0.97      0.97      0.97      1672\n",
      "\n",
      "\n",
      "Confusion Matrix (Random Forest):\n",
      " [[1453    0]\n",
      " [  48  171]]\n"
     ]
    }
   ],
   "source": [
    "# Train the Random Forest model\n",
    "random_forest_model = RandomForestClassifier(n_estimators=100, random_state=42)\n",
    "random_forest_model.fit(X_train, y_train)\n",
    "\n",
    "# Predict on the test data\n",
    "y_pred_rf = random_forest_model.predict(X_test)\n",
    "\n",
    "# Evaluate the model\n",
    "print(\"Accuracy (Random Forest):\", accuracy_score(y_test, y_pred_rf))\n",
    "print(\"\\nClassification Report (Random Forest):\\n\", classification_report(y_test, y_pred_rf))\n",
    "print(\"\\nConfusion Matrix (Random Forest):\\n\", confusion_matrix(y_test, y_pred_rf))"
   ]
  },
  {
   "cell_type": "markdown",
   "metadata": {
    "id": "LzLa39258CnM"
   },
   "source": [
    "### Accuracy of The Models"
   ]
  },
  {
   "cell_type": "code",
   "execution_count": 27,
   "metadata": {
    "colab": {
     "base_uri": "https://localhost:8080/",
     "height": 143
    },
    "id": "yfedOP288AtY",
    "outputId": "c3188773-d0e1-4f90-97a5-4560e5db1a56",
    "scrolled": true
   },
   "outputs": [
    {
     "data": {
      "text/html": [
       "<div>\n",
       "<style scoped>\n",
       "    .dataframe tbody tr th:only-of-type {\n",
       "        vertical-align: middle;\n",
       "    }\n",
       "\n",
       "    .dataframe tbody tr th {\n",
       "        vertical-align: top;\n",
       "    }\n",
       "\n",
       "    .dataframe thead th {\n",
       "        text-align: right;\n",
       "    }\n",
       "</style>\n",
       "<table border=\"1\" class=\"dataframe\">\n",
       "  <thead>\n",
       "    <tr style=\"text-align: right;\">\n",
       "      <th></th>\n",
       "      <th>Model</th>\n",
       "      <th>Accuracy</th>\n",
       "    </tr>\n",
       "  </thead>\n",
       "  <tbody>\n",
       "    <tr>\n",
       "      <th>0</th>\n",
       "      <td>Naive Bayes</td>\n",
       "      <td>0.947967</td>\n",
       "    </tr>\n",
       "    <tr>\n",
       "      <th>1</th>\n",
       "      <td>Logistic Regression</td>\n",
       "      <td>0.950957</td>\n",
       "    </tr>\n",
       "    <tr>\n",
       "      <th>2</th>\n",
       "      <td>Random Forest</td>\n",
       "      <td>0.971292</td>\n",
       "    </tr>\n",
       "  </tbody>\n",
       "</table>\n",
       "</div>"
      ],
      "text/plain": [
       "                 Model  Accuracy\n",
       "0          Naive Bayes  0.947967\n",
       "1  Logistic Regression  0.950957\n",
       "2        Random Forest  0.971292"
      ]
     },
     "metadata": {},
     "output_type": "display_data"
    }
   ],
   "source": [
    "# Calculate accuracy scores for each model\n",
    "nb_accuracy = accuracy_score(y_test, naive_bayes_model.predict(X_test))\n",
    "lr_accuracy = accuracy_score(y_test, logistic_regression_model.predict(X_test))\n",
    "rf_accuracy = accuracy_score(y_test, random_forest_model.predict(X_test))\n",
    "\n",
    "# Create a dictionary for accuracy scores\n",
    "accuracy_data = {\n",
    "    'Model': ['Naive Bayes', 'Logistic Regression', 'Random Forest'],\n",
    "    'Accuracy': [nb_accuracy, lr_accuracy, rf_accuracy]\n",
    "}\n",
    "\n",
    "# Create a DataFrame from the accuracy dictionary\n",
    "accuracy_df = pd.DataFrame(accuracy_data)\n",
    "\n",
    "# Store confusion matrices in a dictionary\n",
    "nb_conf_matrix = confusion_matrix(y_test, naive_bayes_model.predict(X_test))\n",
    "lr_conf_matrix = confusion_matrix(y_test, logistic_regression_model.predict(X_test))\n",
    "rf_conf_matrix = confusion_matrix(y_test, random_forest_model.predict(X_test))\n",
    "\n",
    "confusion_matrices = {\n",
    "    'Naive Bayes': nb_conf_matrix,\n",
    "    'Logistic Regression': lr_conf_matrix,\n",
    "    'Random Forest': rf_conf_matrix\n",
    "}\n",
    "\n",
    "display(accuracy_df)"
   ]
  },
  {
   "cell_type": "markdown",
   "metadata": {
    "id": "8VDSgxHt5BzI"
   },
   "source": [
    "## *Verification: Test Data with Input Text*"
   ]
  },
  {
   "cell_type": "code",
   "execution_count": 29,
   "metadata": {
    "colab": {
     "base_uri": "https://localhost:8080/"
    },
    "id": "db37ec23",
    "outputId": "78b061c1-d352-4f47-eb73-6928efa95c17"
   },
   "outputs": [
    {
     "name": "stdout",
     "output_type": "stream",
     "text": [
      "Enter the text for classification: Customer service annoncement. You have a New Years delivery waiting for you. Please call 07046744435 now to arrange delivery\n",
      "Input Text: Customer service annoncement. You have a New Years delivery waiting for you. Please call 07046744435 now to arrange delivery\n",
      "Naive Bayes Prediction: ham\n",
      "Logistic Regression Prediction: spam\n",
      "Random Forest Prediction: spam\n"
     ]
    }
   ],
   "source": [
    "# Define a sample input text\n",
    "input_text = input(\"Enter the text for classification: \")\n",
    "\n",
    "# Preprocess the input text using the same cleaning function\n",
    "cleaned_input_text = clean_text(input_text)\n",
    "\n",
    "# Vectorize the cleaned input text using the fitted TF-IDF vectorizer\n",
    "# The input needs to be in a list or array format for the vectorizer\n",
    "vectorized_input_text = tfidf_vectorizer.transform([cleaned_input_text])\n",
    "\n",
    "# Get predictions from each model\n",
    "nb_prediction = naive_bayes_model.predict(vectorized_input_text)\n",
    "lr_prediction = logistic_regression_model.predict(vectorized_input_text)\n",
    "rf_prediction = random_forest_model.predict(vectorized_input_text)\n",
    "\n",
    "# Display the predictions\n",
    "print(f\"Input Text: {input_text}\")\n",
    "print(f\"Naive Bayes Prediction: {nb_prediction[0]}\")\n",
    "print(f\"Logistic Regression Prediction: {lr_prediction[0]}\")\n",
    "print(f\"Random Forest Prediction: {rf_prediction[0]}\")"
   ]
  },
  {
   "cell_type": "markdown",
   "metadata": {
    "id": "MTj7bX4m6SXu"
   },
   "source": [
    "## Comparative analysis of algorithms (e.g., Naive Bayes vs Logistic Regression vs Random Forest)\n",
    "---\n",
    "\n",
    "⏺***Accuracy Comparison with Barplots***\n"
   ]
  },
  {
   "cell_type": "code",
   "execution_count": 30,
   "metadata": {
    "colab": {
     "base_uri": "https://localhost:8080/",
     "height": 410
    },
    "id": "JP-l1DoN66zH",
    "outputId": "60f6559c-3227-44d2-97a6-f177a3479294"
   },
   "outputs": [
    {
     "data": {
      "image/png": "[encoded data removed]",
      "text/plain": [
       "<Figure size 600x400 with 1 Axes>"
      ]
     },
     "metadata": {},
     "output_type": "display_data"
    }
   ],
   "source": [
    "accuracy_data = {'Model': ['Naive Bayes', 'Logistic Regression', 'Random Forest'],\n",
    "                 'Accuracy': [nb_accuracy, lr_accuracy, rf_accuracy]}\n",
    "accuracy_df = pd.DataFrame(accuracy_data)\n",
    "\n",
    "plt.figure(figsize=(6, 4))\n",
    "sns.barplot(x='Model', y='Accuracy', data=accuracy_df, palette='viridis')\n",
    "plt.title('Model Accuracy Comparison')\n",
    "plt.ylim(0.9, 1.0) # Set y-axis limit for better comparison\n",
    "plt.ylabel('Accuracy')\n",
    "plt.xlabel('Model')\n",
    "\n",
    "plt.show()"
   ]
  },
  {
   "cell_type": "markdown",
   "metadata": {
    "id": "J5wAllGB6vkV"
   },
   "source": [
    "⏺***Confusion Matrix Comparison with Heatmaps***"
   ]
  },
  {
   "cell_type": "code",
   "execution_count": 31,
   "metadata": {},
   "outputs": [
    {
     "data": {
      "image/png": "[encoded data removed]",
      "text/plain": [
       "<Figure size 1800x500 with 6 Axes>"
      ]
     },
     "metadata": {},
     "output_type": "display_data"
    }
   ],
   "source": [
    "fig, axes = plt.subplots(1, 3, figsize=(18, 5))\n",
    "fig.patch.set_facecolor('white') # Set figure background to white\n",
    "\n",
    "\n",
    "for i, (model_name, matrix) in enumerate(confusion_matrices.items()):\n",
    "    ax = axes[i]\n",
    "    sns.heatmap(matrix, annot=True, fmt='d', cmap='Blues', ax=ax, annot_kws={\"size\": 16})\n",
    "    ax.set_title(f'{model_name} Confusion Matrix', color='black')\n",
    "    ax.set_xlabel('Predicted Label', color='black')\n",
    "    ax.set_ylabel('True Label', color='black')\n",
    "    ax.tick_params(axis='x', colors='black')\n",
    "    ax.tick_params(axis='y', colors='black')\n",
    "    ax.set_facecolor('white') # Set axes background to white\n",
    "\n",
    "\n",
    "plt.tight_layout()\n",
    "plt.show()"
   ]
  },
  {
   "cell_type": "markdown",
   "metadata": {
    "id": "9RF9PrWV9LkP"
   },
   "source": [
    "\n",
    "\n",
    "> Based on the comparative analysis, the **Random Forest model** is the best performing model for this email spam classification task using TF-IDF features. It demonstrates the highest overall accuracy and is most effective at correctly identifying 'spam' messages while avoiding misclassifying 'ham' messages.\n",
    "\n"
   ]
  },
  {
   "cell_type": "markdown",
   "metadata": {
    "id": "0927d2d3"
   },
   "source": [
    "## Conclusion:\n",
    "\n",
    "---\n",
    "Based on these metrics breakdowns:\n",
    "\n",
    "             Accuracy         Recall\n",
    "             -----------------------\n",
    "             NB: ~94.8%         0.60\n",
    "             LR: ~95.1%         0.63\n",
    "             RF: ~97.1%         0.78  \n",
    "\n",
    "### Data Analysis Key Findings-\n",
    "* All three evaluated models demonstrated high accuracy in classifying spam and ham messages, and provided the right prediction during verfication wwith input data, that indicating their suitability for this task.  \n",
    "\n",
    "* While **Naive Bayes Model** called a strong baseline for text classification and performs surprisingly well with sparse data. In this case, it also provided a advisable accuracy. Apart from that, **Logistic Regression Model** also provided very high accuracy. Althouh **Random Forest Model** performs poorly on high-dimensional sparse text (like bag-of-words) but, **for this particular dataset and with TF-IDF features**, it yielded better results here.\n",
    "\n"
   ]
  }
 ],
 "metadata": {
  "colab": {
   "provenance": []
  },
  "kernelspec": {
   "display_name": "Python 3 (ipykernel)",
   "language": "python",
   "name": "python3"
  },
  "language_info": {
   "codemirror_mode": {
    "name": "ipython",
    "version": 3
   },
   "file_extension": ".py",
   "mimetype": "text/x-python",
   "name": "python",
   "nbconvert_exporter": "python",
   "pygments_lexer": "ipython3",
   "version": "3.11.3"
  }
 },
 "nbformat": 4,
 "nbformat_minor": 1
}
